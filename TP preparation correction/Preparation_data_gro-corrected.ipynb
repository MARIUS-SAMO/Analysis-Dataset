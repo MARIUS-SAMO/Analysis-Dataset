{
 "cells": [
  {
   "cell_type": "markdown",
   "metadata": {},
   "source": [
    "# TP 1 : pré-traitement des données et visualisation"
   ]
  },
  {
   "cell_type": "markdown",
   "metadata": {},
   "source": [
    "Nous allons travailler sur le jeu de données `gro.csv` pour faire du **credit scoring**, qui a été proposé il y a quelques années sur un site de data challenge. C'est un vrai de jeu qui contient des données avec différents types de variable, des valeurs manquantes, etc. Nous devons donc faire un gros travail de préparation de données.\n",
    "Les données contiennent les colonnes suivantes :\n",
    "\n",
    "| Nom de la colonne    | Description |\n",
    "|:---------------------|:------------|\n",
    "| BirthDate            | Date of birth of the client |\n",
    "| Customer_Open_Date   | Creation date of the client's first account at the bank |\n",
    "| Customer_Type        | Type of client (existing / new) | \n",
    "| Educational_Level    | Highest diploma |\n",
    "| Id_Customer          | Id of the client |\n",
    "| Marital_Status       | Family situation |\n",
    "| Nb_Of_Products       | Number of products held by the client |\n",
    "| Net_Annual_Income    | Annual revenue |\n",
    "| Number_Of_Dependant  | Number of dependents |\n",
    "| P_Client             | Non-disclosed feature |\n",
    "| Prod_Category        | Product category |\n",
    "| Prod_Closed_Date     | Closing date of the last product |\n",
    "| Prod_Decision_Date   | Decision date of the last agreement for a financing product |\n",
    "| Prod_Sub_Category    | Sub-category of the product |\n",
    "| Source               | Financing source (Branch or Sales) |\n",
    "| Type_Of_Residence    | Residential situation |\n",
    "| Y                    | Credit was granted (yes / no) |\n",
    "| Years_At_Business    | Number of year at the current job position |\n",
    "| Years_At_Residence   | Number of year at the current housing |"
   ]
  },
  {
   "cell_type": "markdown",
   "metadata": {},
   "source": [
    "On commence par importer les données via `pd.read_csv` en changeant le séparateur par défaut."
   ]
  },
  {
   "cell_type": "code",
   "execution_count": 40,
   "metadata": {
    "ExecuteTime": {
     "end_time": "2020-10-09T14:04:01.662026Z",
     "start_time": "2020-10-09T14:04:01.639671Z"
    }
   },
   "outputs": [],
   "source": [
    "import numpy as np\n",
    "import pandas as pd\n",
    "import matplotlib.pyplot as plt\n",
    "import seaborn as sns\n",
    "import pickle as pkl\n",
    "%matplotlib inline\n",
    "\n",
    "sns.set_context(\"notebook\", font_scale=1.2)\n"
   ]
  },
  {
   "cell_type": "code",
   "execution_count": 41,
   "metadata": {
    "ExecuteTime": {
     "end_time": "2020-10-09T14:04:22.604388Z",
     "start_time": "2020-10-09T14:04:22.587684Z"
    }
   },
   "outputs": [],
   "source": [
    "gro_dtypes = {\n",
    "    'Years_At_Residence': np.int,\n",
    "    'Net_Annual_Income' : np.float,\n",
    "    'Years_At_Business': np.float,\n",
    "    'Number_Of_Dependant': np.float,\n",
    "    'Nb_Of_Products': np.int,\n",
    "    'Customer_Type': 'category',\n",
    "    'P_Client': 'category',\n",
    "    'Educational_Level': 'category',\n",
    "    'Marital_Status': 'category',\n",
    "    'Prod_Sub_Category': 'category',\n",
    "    'Source': 'category',\n",
    "    'Type_Of_Residence': 'category',\n",
    "    'Prod_Category': 'category',\n",
    "}\n",
    "\n",
    "df = pd.read_csv(\n",
    "    # Filename\n",
    "    \"gro.csv\",\n",
    "    # Column separator\n",
    "    sep=';',\n",
    "    # Decimal separator\n",
    "    decimal=',',\n",
    "    # Range of the columns to keep (remove the last three ones)\n",
    "    usecols=range(19),\n",
    "    # Which columns should be parsed as dates\n",
    "    parse_dates=['BirthDate', 'Customer_Open_Date', 'Prod_Decision_Date', \n",
    "                 'Prod_Closed_Date'],\n",
    "    # Specify some dtypes\n",
    "    dtype=gro_dtypes\n",
    ")"
   ]
  },
  {
   "cell_type": "code",
   "execution_count": 42,
   "metadata": {},
   "outputs": [
    {
     "data": {
      "text/html": [
       "<div>\n",
       "<style scoped>\n",
       "    .dataframe tbody tr th:only-of-type {\n",
       "        vertical-align: middle;\n",
       "    }\n",
       "\n",
       "    .dataframe tbody tr th {\n",
       "        vertical-align: top;\n",
       "    }\n",
       "\n",
       "    .dataframe thead th {\n",
       "        text-align: right;\n",
       "    }\n",
       "</style>\n",
       "<table border=\"1\" class=\"dataframe\">\n",
       "  <thead>\n",
       "    <tr style=\"text-align: right;\">\n",
       "      <th></th>\n",
       "      <th>Id_Customer</th>\n",
       "      <th>Y</th>\n",
       "      <th>Customer_Type</th>\n",
       "      <th>BirthDate</th>\n",
       "      <th>Customer_Open_Date</th>\n",
       "      <th>P_Client</th>\n",
       "      <th>Educational_Level</th>\n",
       "      <th>Marital_Status</th>\n",
       "      <th>Number_Of_Dependant</th>\n",
       "      <th>Years_At_Residence</th>\n",
       "      <th>Net_Annual_Income</th>\n",
       "      <th>Years_At_Business</th>\n",
       "      <th>Prod_Sub_Category</th>\n",
       "      <th>Prod_Decision_Date</th>\n",
       "      <th>Source</th>\n",
       "      <th>Type_Of_Residence</th>\n",
       "      <th>Nb_Of_Products</th>\n",
       "      <th>Prod_Closed_Date</th>\n",
       "      <th>Prod_Category</th>\n",
       "    </tr>\n",
       "  </thead>\n",
       "  <tbody>\n",
       "    <tr>\n",
       "      <td>0</td>\n",
       "      <td>6714</td>\n",
       "      <td>0</td>\n",
       "      <td>Non Existing Client</td>\n",
       "      <td>1971-02-09</td>\n",
       "      <td>2012-01-18</td>\n",
       "      <td>NP_Client</td>\n",
       "      <td>University</td>\n",
       "      <td>Married</td>\n",
       "      <td>3.0</td>\n",
       "      <td>10</td>\n",
       "      <td>36.0</td>\n",
       "      <td>3.0</td>\n",
       "      <td>C</td>\n",
       "      <td>2012-01-23</td>\n",
       "      <td>Sales</td>\n",
       "      <td>Owned</td>\n",
       "      <td>1</td>\n",
       "      <td>NaT</td>\n",
       "      <td>B</td>\n",
       "    </tr>\n",
       "    <tr>\n",
       "      <td>1</td>\n",
       "      <td>7440</td>\n",
       "      <td>0</td>\n",
       "      <td>Non Existing Client</td>\n",
       "      <td>1977-07-08</td>\n",
       "      <td>2012-02-13</td>\n",
       "      <td>NP_Client</td>\n",
       "      <td>University</td>\n",
       "      <td>Married</td>\n",
       "      <td>3.0</td>\n",
       "      <td>1</td>\n",
       "      <td>36.0</td>\n",
       "      <td>1.0</td>\n",
       "      <td>C</td>\n",
       "      <td>2012-02-14</td>\n",
       "      <td>Sales</td>\n",
       "      <td>Owned</td>\n",
       "      <td>1</td>\n",
       "      <td>NaT</td>\n",
       "      <td>B</td>\n",
       "    </tr>\n",
       "    <tr>\n",
       "      <td>2</td>\n",
       "      <td>573</td>\n",
       "      <td>0</td>\n",
       "      <td>Existing Client</td>\n",
       "      <td>1974-06-13</td>\n",
       "      <td>2009-04-02</td>\n",
       "      <td>P_Client</td>\n",
       "      <td>University</td>\n",
       "      <td>Married</td>\n",
       "      <td>0.0</td>\n",
       "      <td>12</td>\n",
       "      <td>18.0</td>\n",
       "      <td>2.0</td>\n",
       "      <td>C</td>\n",
       "      <td>2011-06-30</td>\n",
       "      <td>Sales</td>\n",
       "      <td>Parents</td>\n",
       "      <td>1</td>\n",
       "      <td>NaT</td>\n",
       "      <td>G</td>\n",
       "    </tr>\n",
       "    <tr>\n",
       "      <td>3</td>\n",
       "      <td>9194</td>\n",
       "      <td>0</td>\n",
       "      <td>Non Existing Client</td>\n",
       "      <td>1973-07-11</td>\n",
       "      <td>2012-03-04</td>\n",
       "      <td>NP_Client</td>\n",
       "      <td>University</td>\n",
       "      <td>Married</td>\n",
       "      <td>2.0</td>\n",
       "      <td>10</td>\n",
       "      <td>36.0</td>\n",
       "      <td>1.0</td>\n",
       "      <td>C</td>\n",
       "      <td>2012-04-04</td>\n",
       "      <td>Sales</td>\n",
       "      <td>Owned</td>\n",
       "      <td>1</td>\n",
       "      <td>NaT</td>\n",
       "      <td>B</td>\n",
       "    </tr>\n",
       "    <tr>\n",
       "      <td>4</td>\n",
       "      <td>3016</td>\n",
       "      <td>1</td>\n",
       "      <td>Existing Client</td>\n",
       "      <td>1982-08-07</td>\n",
       "      <td>2011-08-25</td>\n",
       "      <td>NP_Client</td>\n",
       "      <td>University</td>\n",
       "      <td>Married</td>\n",
       "      <td>3.0</td>\n",
       "      <td>3</td>\n",
       "      <td>36.0</td>\n",
       "      <td>1.0</td>\n",
       "      <td>C</td>\n",
       "      <td>2011-07-09</td>\n",
       "      <td>Sales</td>\n",
       "      <td>New rent</td>\n",
       "      <td>1</td>\n",
       "      <td>2012-12-31</td>\n",
       "      <td>L</td>\n",
       "    </tr>\n",
       "  </tbody>\n",
       "</table>\n",
       "</div>"
      ],
      "text/plain": [
       "   Id_Customer  Y        Customer_Type  BirthDate Customer_Open_Date  \\\n",
       "0         6714  0  Non Existing Client 1971-02-09         2012-01-18   \n",
       "1         7440  0  Non Existing Client 1977-07-08         2012-02-13   \n",
       "2          573  0      Existing Client 1974-06-13         2009-04-02   \n",
       "3         9194  0  Non Existing Client 1973-07-11         2012-03-04   \n",
       "4         3016  1      Existing Client 1982-08-07         2011-08-25   \n",
       "\n",
       "    P_Client Educational_Level Marital_Status  Number_Of_Dependant  \\\n",
       "0  NP_Client        University        Married                  3.0   \n",
       "1  NP_Client        University        Married                  3.0   \n",
       "2   P_Client        University        Married                  0.0   \n",
       "3  NP_Client        University        Married                  2.0   \n",
       "4  NP_Client        University        Married                  3.0   \n",
       "\n",
       "   Years_At_Residence  Net_Annual_Income  Years_At_Business Prod_Sub_Category  \\\n",
       "0                  10               36.0                3.0                 C   \n",
       "1                   1               36.0                1.0                 C   \n",
       "2                  12               18.0                2.0                 C   \n",
       "3                  10               36.0                1.0                 C   \n",
       "4                   3               36.0                1.0                 C   \n",
       "\n",
       "  Prod_Decision_Date Source Type_Of_Residence  Nb_Of_Products  \\\n",
       "0         2012-01-23  Sales             Owned               1   \n",
       "1         2012-02-14  Sales             Owned               1   \n",
       "2         2011-06-30  Sales           Parents               1   \n",
       "3         2012-04-04  Sales             Owned               1   \n",
       "4         2011-07-09  Sales          New rent               1   \n",
       "\n",
       "  Prod_Closed_Date Prod_Category  \n",
       "0              NaT             B  \n",
       "1              NaT             B  \n",
       "2              NaT             G  \n",
       "3              NaT             B  \n",
       "4       2012-12-31             L  "
      ]
     },
     "execution_count": 42,
     "metadata": {},
     "output_type": "execute_result"
    }
   ],
   "source": [
    "df.head(n=5)"
   ]
  },
  {
   "cell_type": "code",
   "execution_count": 43,
   "metadata": {},
   "outputs": [
    {
     "data": {
      "text/plain": [
       "(6725, 19)"
      ]
     },
     "execution_count": 43,
     "metadata": {},
     "output_type": "execute_result"
    }
   ],
   "source": [
    "df.shape"
   ]
  },
  {
   "cell_type": "markdown",
   "metadata": {},
   "source": [
    "#### Les données manquantes\n",
    "\n",
    "On repère dans quelles colonnes sont les valeurs maquantes."
   ]
  },
  {
   "cell_type": "code",
   "execution_count": 44,
   "metadata": {
    "ExecuteTime": {
     "end_time": "2020-10-09T14:04:05.631032Z",
     "start_time": "2020-10-09T14:04:05.622705Z"
    }
   },
   "outputs": [
    {
     "data": {
      "text/plain": [
       "Id_Customer               0\n",
       "Y                         0\n",
       "Customer_Type             0\n",
       "BirthDate                 0\n",
       "Customer_Open_Date        0\n",
       "P_Client                  0\n",
       "Educational_Level         0\n",
       "Marital_Status            0\n",
       "Number_Of_Dependant       2\n",
       "Years_At_Residence        0\n",
       "Net_Annual_Income         3\n",
       "Years_At_Business         4\n",
       "Prod_Sub_Category         0\n",
       "Prod_Decision_Date        0\n",
       "Source                    0\n",
       "Type_Of_Residence         0\n",
       "Nb_Of_Products            0\n",
       "Prod_Closed_Date       5291\n",
       "Prod_Category             0\n",
       "dtype: int64"
      ]
     },
     "execution_count": 44,
     "metadata": {},
     "output_type": "execute_result"
    }
   ],
   "source": [
    "df.isnull().sum()"
   ]
  },
  {
   "cell_type": "markdown",
   "metadata": {},
   "source": [
    "C'est sur la colonne `Prod_Closed_Date` que se trouvent le plus grand nombre de valeurs manquantes, une solution est de la retirer. On peut également créer une nouvelle variable qui indique si `Prod_Closed_Date`est manquant ou non"
   ]
  },
  {
   "cell_type": "code",
   "execution_count": 45,
   "metadata": {},
   "outputs": [
    {
     "data": {
      "text/html": [
       "<div>\n",
       "<style scoped>\n",
       "    .dataframe tbody tr th:only-of-type {\n",
       "        vertical-align: middle;\n",
       "    }\n",
       "\n",
       "    .dataframe tbody tr th {\n",
       "        vertical-align: top;\n",
       "    }\n",
       "\n",
       "    .dataframe thead th {\n",
       "        text-align: right;\n",
       "    }\n",
       "</style>\n",
       "<table border=\"1\" class=\"dataframe\">\n",
       "  <thead>\n",
       "    <tr style=\"text-align: right;\">\n",
       "      <th></th>\n",
       "      <th>Prod_Closed_Date</th>\n",
       "    </tr>\n",
       "  </thead>\n",
       "  <tbody>\n",
       "    <tr>\n",
       "      <td>0</td>\n",
       "      <td>True</td>\n",
       "    </tr>\n",
       "    <tr>\n",
       "      <td>1</td>\n",
       "      <td>True</td>\n",
       "    </tr>\n",
       "    <tr>\n",
       "      <td>2</td>\n",
       "      <td>True</td>\n",
       "    </tr>\n",
       "    <tr>\n",
       "      <td>3</td>\n",
       "      <td>True</td>\n",
       "    </tr>\n",
       "    <tr>\n",
       "      <td>4</td>\n",
       "      <td>False</td>\n",
       "    </tr>\n",
       "    <tr>\n",
       "      <td>...</td>\n",
       "      <td>...</td>\n",
       "    </tr>\n",
       "    <tr>\n",
       "      <td>6720</td>\n",
       "      <td>True</td>\n",
       "    </tr>\n",
       "    <tr>\n",
       "      <td>6721</td>\n",
       "      <td>False</td>\n",
       "    </tr>\n",
       "    <tr>\n",
       "      <td>6722</td>\n",
       "      <td>False</td>\n",
       "    </tr>\n",
       "    <tr>\n",
       "      <td>6723</td>\n",
       "      <td>True</td>\n",
       "    </tr>\n",
       "    <tr>\n",
       "      <td>6724</td>\n",
       "      <td>True</td>\n",
       "    </tr>\n",
       "  </tbody>\n",
       "</table>\n",
       "<p>6725 rows × 1 columns</p>\n",
       "</div>"
      ],
      "text/plain": [
       "      Prod_Closed_Date\n",
       "0                 True\n",
       "1                 True\n",
       "2                 True\n",
       "3                 True\n",
       "4                False\n",
       "...                ...\n",
       "6720              True\n",
       "6721             False\n",
       "6722             False\n",
       "6723              True\n",
       "6724              True\n",
       "\n",
       "[6725 rows x 1 columns]"
      ]
     },
     "execution_count": 45,
     "metadata": {},
     "output_type": "execute_result"
    }
   ],
   "source": [
    "df[['Prod_Closed_Date']].isnull()"
   ]
  },
  {
   "cell_type": "code",
   "execution_count": 46,
   "metadata": {
    "ExecuteTime": {
     "end_time": "2020-10-09T14:04:05.824951Z",
     "start_time": "2020-10-09T14:04:05.812024Z"
    }
   },
   "outputs": [
    {
     "data": {
      "text/html": [
       "<div>\n",
       "<style scoped>\n",
       "    .dataframe tbody tr th:only-of-type {\n",
       "        vertical-align: middle;\n",
       "    }\n",
       "\n",
       "    .dataframe tbody tr th {\n",
       "        vertical-align: top;\n",
       "    }\n",
       "\n",
       "    .dataframe thead th {\n",
       "        text-align: right;\n",
       "    }\n",
       "</style>\n",
       "<table border=\"1\" class=\"dataframe\">\n",
       "  <thead>\n",
       "    <tr style=\"text-align: right;\">\n",
       "      <th></th>\n",
       "      <th>Prod_Closed_Date</th>\n",
       "    </tr>\n",
       "  </thead>\n",
       "  <tbody>\n",
       "    <tr>\n",
       "      <td>0</td>\n",
       "      <td>NaT</td>\n",
       "    </tr>\n",
       "    <tr>\n",
       "      <td>1</td>\n",
       "      <td>NaT</td>\n",
       "    </tr>\n",
       "    <tr>\n",
       "      <td>2</td>\n",
       "      <td>NaT</td>\n",
       "    </tr>\n",
       "    <tr>\n",
       "      <td>3</td>\n",
       "      <td>NaT</td>\n",
       "    </tr>\n",
       "    <tr>\n",
       "      <td>4</td>\n",
       "      <td>2012-12-31</td>\n",
       "    </tr>\n",
       "  </tbody>\n",
       "</table>\n",
       "</div>"
      ],
      "text/plain": [
       "  Prod_Closed_Date\n",
       "0              NaT\n",
       "1              NaT\n",
       "2              NaT\n",
       "3              NaT\n",
       "4       2012-12-31"
      ]
     },
     "execution_count": 46,
     "metadata": {},
     "output_type": "execute_result"
    }
   ],
   "source": [
    "df[['Prod_Closed_Date']].head(5)"
   ]
  },
  {
   "cell_type": "code",
   "execution_count": 47,
   "metadata": {
    "ExecuteTime": {
     "end_time": "2020-10-09T14:04:10.991036Z",
     "start_time": "2020-10-09T14:04:10.977436Z"
    },
    "scrolled": true
   },
   "outputs": [],
   "source": [
    "df['Prod_Closed_Date_missing'] = df[['Prod_Closed_Date']].isnull()\n",
    "df.drop(['Prod_Closed_Date'], axis=\"columns\", inplace=True)\n"
   ]
  },
  {
   "cell_type": "code",
   "execution_count": 48,
   "metadata": {},
   "outputs": [
    {
     "data": {
      "text/plain": [
       "(6725, 19)"
      ]
     },
     "execution_count": 48,
     "metadata": {},
     "output_type": "execute_result"
    }
   ],
   "source": [
    "df.shape"
   ]
  },
  {
   "cell_type": "markdown",
   "metadata": {},
   "source": [
    "On regarde où les données contiennent encore des valeurs manquantes"
   ]
  },
  {
   "cell_type": "code",
   "execution_count": 49,
   "metadata": {
    "ExecuteTime": {
     "end_time": "2020-10-09T13:42:49.857691Z",
     "start_time": "2020-10-09T13:42:49.845166Z"
    }
   },
   "outputs": [
    {
     "data": {
      "text/plain": [
       "Id_Customer                 0\n",
       "Y                           0\n",
       "Customer_Type               0\n",
       "BirthDate                   0\n",
       "Customer_Open_Date          0\n",
       "P_Client                    0\n",
       "Educational_Level           0\n",
       "Marital_Status              0\n",
       "Number_Of_Dependant         2\n",
       "Years_At_Residence          0\n",
       "Net_Annual_Income           3\n",
       "Years_At_Business           4\n",
       "Prod_Sub_Category           0\n",
       "Prod_Decision_Date          0\n",
       "Source                      0\n",
       "Type_Of_Residence           0\n",
       "Nb_Of_Products              0\n",
       "Prod_Category               0\n",
       "Prod_Closed_Date_missing    0\n",
       "dtype: int64"
      ]
     },
     "execution_count": 49,
     "metadata": {},
     "output_type": "execute_result"
    }
   ],
   "source": [
    "df.isnull().sum()"
   ]
  },
  {
   "cell_type": "markdown",
   "metadata": {},
   "source": [
    "Pour `Number_Of_Dependant`, `Net_Annual_Income`, `Years_At_Business`, on remplace par la valeur médiane, on va d'abord seuiller la variable `Net_Annual_Income`"
   ]
  },
  {
   "cell_type": "code",
   "execution_count": 50,
   "metadata": {},
   "outputs": [],
   "source": [
    "df.loc[df['Net_Annual_Income'] > 200, 'Net_Annual_Income'] = 200"
   ]
  },
  {
   "cell_type": "code",
   "execution_count": 51,
   "metadata": {},
   "outputs": [],
   "source": [
    "\n",
    "\n",
    "df[['Number_Of_Dependant', 'Net_Annual_Income', 'Years_At_Business']] = \\\n",
    "    df[['Number_Of_Dependant', 'Net_Annual_Income', 'Years_At_Business']].fillna(value = \n",
    "                                                                                 df[['Number_Of_Dependant', 'Net_Annual_Income', 'Years_At_Business']].median())\n"
   ]
  },
  {
   "cell_type": "code",
   "execution_count": 52,
   "metadata": {},
   "outputs": [
    {
     "data": {
      "text/plain": [
       "Id_Customer                 0\n",
       "Y                           0\n",
       "Customer_Type               0\n",
       "BirthDate                   0\n",
       "Customer_Open_Date          0\n",
       "P_Client                    0\n",
       "Educational_Level           0\n",
       "Marital_Status              0\n",
       "Number_Of_Dependant         0\n",
       "Years_At_Residence          0\n",
       "Net_Annual_Income           0\n",
       "Years_At_Business           0\n",
       "Prod_Sub_Category           0\n",
       "Prod_Decision_Date          0\n",
       "Source                      0\n",
       "Type_Of_Residence           0\n",
       "Nb_Of_Products              0\n",
       "Prod_Category               0\n",
       "Prod_Closed_Date_missing    0\n",
       "dtype: int64"
      ]
     },
     "execution_count": 52,
     "metadata": {},
     "output_type": "execute_result"
    }
   ],
   "source": [
    "df.isnull().sum()"
   ]
  },
  {
   "cell_type": "code",
   "execution_count": 53,
   "metadata": {
    "ExecuteTime": {
     "end_time": "2020-10-09T14:04:28.151745Z",
     "start_time": "2020-10-09T14:04:28.094994Z"
    }
   },
   "outputs": [],
   "source": [
    "# Now we save the cleaned dataset into a CSV file\n",
    "df.to_csv(\"gro_cleaned_nomissing.csv\")"
   ]
  },
  {
   "cell_type": "code",
   "execution_count": 54,
   "metadata": {},
   "outputs": [
    {
     "name": "stdout",
     "output_type": "stream",
     "text": [
      "-rw-r--r--@ 1 agatheguilloux  staff   850609  9 déc 10:27 gro_cleaned.csv\r\n",
      "-rw-r--r--@ 1 agatheguilloux  staff   648142  4 jan 16:23 gro_cleaned.pkl\r\n",
      "-rw-r--r--@ 1 agatheguilloux  staff   886755  8 jan 09:08 gro_cleaned_nomissing.csv\r\n",
      "-rw-r--r--@ 1 agatheguilloux  staff  1864386  4 jan 16:25 gro_prep_array.pkl\r\n",
      "-rw-r--r--@ 1 agatheguilloux  staff  1917707  4 jan 16:25 gro_prep_df.pkl\r\n"
     ]
    }
   ],
   "source": [
    "ls -al gro_*"
   ]
  },
  {
   "cell_type": "markdown",
   "metadata": {},
   "source": [
    "# Préparation finale des données"
   ]
  },
  {
   "cell_type": "markdown",
   "metadata": {},
   "source": [
    "On prépare des listes avec les noms des features catégorielles, dates, et continues"
   ]
  },
  {
   "cell_type": "code",
   "execution_count": 55,
   "metadata": {
    "ExecuteTime": {
     "end_time": "2020-10-08T17:12:33.287735Z",
     "start_time": "2020-10-08T17:12:33.283804Z"
    }
   },
   "outputs": [],
   "source": [
    "\n",
    "cnt_featnames = [\n",
    "    'Years_At_Residence',\n",
    "    'Net_Annual_Income',\n",
    "    'Years_At_Business',\n",
    "    'Number_Of_Dependant'\n",
    "]\n",
    "\n",
    "cat_featnames = [\n",
    "    'Customer_Type',\n",
    "    'P_Client',\n",
    "    'Educational_Level',\n",
    "    'Marital_Status',\n",
    "    'Prod_Sub_Category',\n",
    "    'Source',\n",
    "    'Type_Of_Residence',\n",
    "    'Prod_Category',\n",
    "    'Nb_Of_Products',\n",
    "    'Prod_Closed_Date_missing'\n",
    "]\n",
    "\n",
    "date_featnames = [\n",
    "    'BirthDate',\n",
    "    'Customer_Open_Date',\n",
    "    'Prod_Decision_Date'\n",
    "    \n",
    "]"
   ]
  },
  {
   "cell_type": "code",
   "execution_count": 66,
   "metadata": {},
   "outputs": [
    {
     "data": {
      "text/plain": [
       "array([1, 2, 3])"
      ]
     },
     "execution_count": 66,
     "metadata": {},
     "output_type": "execute_result"
    }
   ],
   "source": [
    "np.unique(df[['Nb_Of_Products']])"
   ]
  },
  {
   "cell_type": "markdown",
   "metadata": {},
   "source": [
    "## On crée la matrice de design avec sklearn"
   ]
  },
  {
   "cell_type": "code",
   "execution_count": 56,
   "metadata": {
    "ExecuteTime": {
     "end_time": "2020-10-08T17:12:33.555686Z",
     "start_time": "2020-10-08T17:12:33.425495Z"
    },
    "scrolled": true
   },
   "outputs": [
    {
     "data": {
      "text/plain": [
       "(6725, 38)"
      ]
     },
     "execution_count": 56,
     "metadata": {},
     "output_type": "execute_result"
    }
   ],
   "source": [
    "from sklearn.base import TransformerMixin, BaseEstimator\n",
    "from sklearn.preprocessing import StandardScaler, OneHotEncoder\n",
    "from sklearn.compose import ColumnTransformer\n",
    "from sklearn.pipeline import Pipeline\n",
    "from pandas import Timestamp\n",
    "\n",
    "# First we create a scikit-learn encoder that computes \n",
    "#  the age in days of columns containing dates\n",
    "class AgeEncoder(TransformerMixin, BaseEstimator):\n",
    "    def fit(self, X, y=None):\n",
    "        self.today = Timestamp.today()\n",
    "        return self\n",
    "\n",
    "    def transform(self, X):\n",
    "        return X.apply(lambda x: (x - self.today).dt.days, axis=0)\n",
    "\n",
    "# Centers and reduces (variance=1) columns\n",
    "standard_scaler = StandardScaler()\n",
    "\n",
    "# One-hot encode, similar to pd.get_dummies\n",
    "one_hot_encoder = OneHotEncoder(drop='first', sparse=False)\n",
    "\n",
    "# A pipeline that first computes age, and standardizes it\n",
    "scaled_age_encoder = Pipeline([\n",
    "    ('age', AgeEncoder()),\n",
    "    ('scaling', StandardScaler())\n",
    "])\n",
    "\n",
    "# Let's combine all these transformations\n",
    "transformer = ColumnTransformer([\n",
    "    ('standard_scaling', standard_scaler, cnt_featnames),\n",
    "    ('one_hot_encoding', one_hot_encoder, cat_featnames),\n",
    "    ('dates_age_scaled', scaled_age_encoder, date_featnames)\n",
    "])\n",
    "\n",
    "gro_prep = transformer.fit_transform(df)\n",
    "gro_prep.shape"
   ]
  },
  {
   "cell_type": "markdown",
   "metadata": {},
   "source": [
    "Nous avons perdu le nom des variables, ce n'est pas grave pour de l'apprentissage pur. C'est une chose qui manque sur sklearn, on peut s'en sortir avec pandas mais ce n'est pas très élégant."
   ]
  },
  {
   "cell_type": "code",
   "execution_count": 80,
   "metadata": {},
   "outputs": [
    {
     "ename": "TypeError",
     "evalue": "to_pickle() got an unexpected keyword argument 'index'",
     "output_type": "error",
     "traceback": [
      "\u001b[0;31m---------------------------------------------------------------------------\u001b[0m",
      "\u001b[0;31mTypeError\u001b[0m                                 Traceback (most recent call last)",
      "\u001b[0;32m<ipython-input-80-c4e51740025e>\u001b[0m in \u001b[0;36m<module>\u001b[0;34m\u001b[0m\n\u001b[1;32m      1\u001b[0m \u001b[0mdf_gro_prep\u001b[0m\u001b[0;34m[\u001b[0m\u001b[0;34m'Y'\u001b[0m\u001b[0;34m]\u001b[0m \u001b[0;34m=\u001b[0m \u001b[0mdf\u001b[0m\u001b[0;34m[\u001b[0m\u001b[0;34m'Y'\u001b[0m\u001b[0;34m]\u001b[0m\u001b[0;34m\u001b[0m\u001b[0;34m\u001b[0m\u001b[0m\n\u001b[0;32m----> 2\u001b[0;31m \u001b[0mdf_gro_prep\u001b[0m\u001b[0;34m.\u001b[0m\u001b[0mto_pickle\u001b[0m\u001b[0;34m(\u001b[0m\u001b[0;34m\"gro_prep_df_nomissing.pkl\"\u001b[0m\u001b[0;34m,\u001b[0m\u001b[0mindex\u001b[0m\u001b[0;34m=\u001b[0m\u001b[0;32mFalse\u001b[0m\u001b[0;34m)\u001b[0m\u001b[0;34m\u001b[0m\u001b[0;34m\u001b[0m\u001b[0m\n\u001b[0m\u001b[1;32m      3\u001b[0m \u001b[0mdf_gro_prep\u001b[0m\u001b[0;34m.\u001b[0m\u001b[0mto_csv\u001b[0m\u001b[0;34m(\u001b[0m\u001b[0;34m\"gro_prep_df_nomissing.csv\"\u001b[0m\u001b[0;34m,\u001b[0m\u001b[0mindex\u001b[0m\u001b[0;34m=\u001b[0m\u001b[0;32mFalse\u001b[0m\u001b[0;34m)\u001b[0m\u001b[0;34m\u001b[0m\u001b[0;34m\u001b[0m\u001b[0m\n",
      "\u001b[0;31mTypeError\u001b[0m: to_pickle() got an unexpected keyword argument 'index'"
     ]
    }
   ],
   "source": [
    "df_gro_prep['Y'] = df['Y']\n",
    "df_gro_prep.to_pickle(\"gro_prep_df_nomissing.pkl\")\n",
    "df_gro_prep.to_csv(\"gro_prep_df_nomissing.csv\")"
   ]
  },
  {
   "cell_type": "code",
   "execution_count": null,
   "metadata": {},
   "outputs": [],
   "source": []
  }
 ],
 "metadata": {
  "kernelspec": {
   "display_name": "Python 3",
   "language": "python",
   "name": "python3"
  },
  "language_info": {
   "codemirror_mode": {
    "name": "ipython",
    "version": 3
   },
   "file_extension": ".py",
   "mimetype": "text/x-python",
   "name": "python",
   "nbconvert_exporter": "python",
   "pygments_lexer": "ipython3",
   "version": "3.7.4"
  },
  "toc": {
   "base_numbering": 1,
   "nav_menu": {},
   "number_sections": true,
   "sideBar": true,
   "skip_h1_title": false,
   "title_cell": "Table of Contents",
   "title_sidebar": "Contents",
   "toc_cell": false,
   "toc_position": {},
   "toc_section_display": true,
   "toc_window_display": false
  }
 },
 "nbformat": 4,
 "nbformat_minor": 4
}
